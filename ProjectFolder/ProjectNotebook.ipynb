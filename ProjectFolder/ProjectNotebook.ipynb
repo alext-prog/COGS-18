{
 "cells": [
  {
   "cell_type": "markdown",
   "metadata": {},
   "source": [
    "# Project Description"
   ]
  },
  {
   "cell_type": "markdown",
   "metadata": {},
   "source": [
    "The goal of my project was to create a bot, similar to a chatbot, but one that played a random number guessing game with the user rather than having a simple chat.  Thus, randint from random had to be imported in order to randomly generate an integer number in a certain range.  The user gets 3 guesses to guess the random number between 1 and 20.  My game greets the user, asks them for their name, and then asks if they would like to play the game.  While playing the game, the user is given hints for their future guesses if they have not guessed the random number correctly yet.  The game is also restarted after the user wins or loses.  A key feature, which is the clearing of the console with a few delay after every few commands, requires the functions to be ran in the terminal."
   ]
  },
  {
   "cell_type": "markdown",
   "metadata": {},
   "source": [
    "### Extra Credit:"
   ]
  },
  {
   "cell_type": "markdown",
   "metadata": {},
   "source": [
    "Since I wanted my game to have a clean output, especially for users that played multiple times, I had to figure out a way to clear the past outputs while still remaining on the current command.  By doing research outside of class resources, I found the clear console commands for the different operating systems (Windows, Linux, and Mac) as long as it is ran in a terminal.    Furthermore, I wanted new prompts that popped up for the user to have a short delay so that it would be easier for them to see a change in directions of the game, rather than an immediate text pop-up that could look similar to previous text and thus hard to notice.  This is where the inclusion of the sleep method, imported from time, as well as system and name imported from os become useful.  These incorporations were ideas not presented in class, and required extra research/skill development."
   ]
  },
  {
   "cell_type": "markdown",
   "metadata": {},
   "source": [
    "### Play the Game:\n",
    "\n",
    "Run functions.py in the terminal"
   ]
  }
 ],
 "metadata": {
  "kernelspec": {
   "display_name": "Python 3",
   "language": "python",
   "name": "python3"
  },
  "language_info": {
   "codemirror_mode": {
    "name": "ipython",
    "version": 3
   },
   "file_extension": ".py",
   "mimetype": "text/x-python",
   "name": "python",
   "nbconvert_exporter": "python",
   "pygments_lexer": "ipython3",
   "version": "3.7.6"
  }
 },
 "nbformat": 4,
 "nbformat_minor": 4
}
