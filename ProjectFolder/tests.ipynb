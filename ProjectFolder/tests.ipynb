{
 "cells": [
  {
   "cell_type": "code",
   "execution_count": null,
   "metadata": {},
   "outputs": [],
   "source": [
    "def test_correct_guess():\n",
    "    \"\"\"Tests for the correct_guess function\"\"\"\n",
    "    \n",
    "    assert callable(correct_guess)\n",
    "    assert isinstance(correct_guess(2), str)\n",
    "    assert correct_guess(2) == (\"\\nCongratulations! You guessed the random number in \" + str(2) + \n",
    "                                \" guesses!\" + \"\\nYou are now returning to the menu...\")\n",
    "        \n",
    "def test_incorrect_guess():\n",
    "    \"\"\"Tests for the incorrect_guess function\"\"\"\n",
    "    \n",
    "    assert callable(incorrect_guess)\n",
    "    assert isinstance(incorrect_guess(8), str)\n",
    "    assert incorrect_guess(8) == (\"\\nSorry! You are out of attempts. The number I was thinking of was \" \n",
    "                                + str(8) + \". \\nYou can try again starting at the menu...\")"
   ]
  },
  {
   "cell_type": "code",
   "execution_count": null,
   "metadata": {},
   "outputs": [],
   "source": [
    "!pytest my_module"
   ]
  }
 ],
 "metadata": {
  "kernelspec": {
   "display_name": "Python 3",
   "language": "python",
   "name": "python3"
  },
  "language_info": {
   "codemirror_mode": {
    "name": "ipython",
    "version": 3
   },
   "file_extension": ".py",
   "mimetype": "text/x-python",
   "name": "python",
   "nbconvert_exporter": "python",
   "pygments_lexer": "ipython3",
   "version": "3.7.6"
  }
 },
 "nbformat": 4,
 "nbformat_minor": 4
}
